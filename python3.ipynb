{
 "cells": [
  {
   "cell_type": "code",
   "execution_count": 43,
   "metadata": {
    "collapsed": true
   },
   "outputs": [],
   "source": [
    "veta ='Král řekl Honzovi: \"Ta saň má 7 hlav! Zabij ji a dostaneš 1/2 království.\"'\n"
   ]
  },
  {
   "cell_type": "code",
   "execution_count": 44,
   "metadata": {},
   "outputs": [
    {
     "name": "stdout",
     "output_type": "stream",
     "text": [
      "Počet písmen: 52\n",
      "Počet čísel: 3\n",
      "Počet jiných znaků: 19\n"
     ]
    }
   ],
   "source": [
    "veta ='Král řekl Honzovi: \"Ta saň má 7 hlav! Zabij ji a dostaneš 1/2 království.\"'.lower\n",
    "veta = veta ()\n",
    "Pocet_pismen = 0\n",
    "Pocet_cisel = 0\n",
    "Pocet_jinych_znaku = 0\n",
    "for znak in veta:\n",
    "    if znak in \"abcčdďefghijklmnňopxrřsštťuwvzžáéíóůúíý\":\n",
    "        Pocet_pismen = Pocet_pismen + 1\n",
    "    if znak in \"0123456789\":\n",
    "        Pocet_cisel = Pocet_cisel + 1\n",
    "    if znak in \"0123456789abcčdďefghijklmnňopxrřsštťuwvzžáéíóůúíý\":\n",
    "        Pocet_jinych_znaku = Pocet_jinych_znaku + 0\n",
    "    else:\n",
    "        Pocet_jinych_znaku = Pocet_jinych_znaku + 1\n",
    "print(\"Počet písmen:\", Pocet_pismen)\n",
    "print(\"Počet čísel:\", Pocet_cisel)\n",
    "print(\"Počet jiných znaků:\", Pocet_jinych_znaku)\n"
   ]
  },
  {
   "cell_type": "code",
   "execution_count": 44,
   "metadata": {},
   "outputs": [
    {
     "name": "stdout",
     "output_type": "stream",
     "text": [
      "Jméno kočky:Mikeš\n",
      "Věk kočky:83\n",
      "Lidský věk kočky Mikeš je 430 let.\n"
     ]
    }
   ],
   "source": [
    "name = input(\"Jméno kočky:\")\n",
    "n = int(input(\"Věk kočky:\"))\n",
    "k = 0\n",
    "while n < 1:\n",
    "        print(\"Není možné určit přesný lidský věk kočky.\") \n",
    "        break\n",
    "while n == 1:\n",
    "        k = 18\n",
    "        break\n",
    "while n == 2:\n",
    "        k = 18 + 7\n",
    "        break\n",
    "while n > 2:\n",
    "        k = 18+7+5*(n-2)\n",
    "        break\n",
    "print(\"Lidský věk kočky\",name, \"je\",k,\"let.\")\n",
    "    "
   ]
  },
  {
   "cell_type": "code",
   "execution_count": null,
   "metadata": {},
   "outputs": [],
   "source": []
  },
  {
   "cell_type": "code",
   "execution_count": null,
   "metadata": {
    "collapsed": true
   },
   "outputs": [],
   "source": []
  },
  {
   "cell_type": "code",
   "execution_count": null,
   "metadata": {},
   "outputs": [],
   "source": []
  },
  {
   "cell_type": "code",
   "execution_count": null,
   "metadata": {},
   "outputs": [],
   "source": [
    "\n"
   ]
  },
  {
   "cell_type": "code",
   "execution_count": null,
   "metadata": {},
   "outputs": [],
   "source": []
  },
  {
   "cell_type": "code",
   "execution_count": null,
   "metadata": {
    "collapsed": true
   },
   "outputs": [],
   "source": []
  }
 ],
 "metadata": {
  "kernelspec": {
   "display_name": "Python 3",
   "language": "python",
   "name": "python3"
  },
  "language_info": {
   "codemirror_mode": {
    "name": "ipython",
    "version": 3
   },
   "file_extension": ".py",
   "mimetype": "text/x-python",
   "name": "python",
   "nbconvert_exporter": "python",
   "pygments_lexer": "ipython3",
   "version": "3.6.1"
  }
 },
 "nbformat": 4,
 "nbformat_minor": 2
}
