{
 "cells": [
  {
   "cell_type": "code",
   "execution_count": 1,
   "metadata": {
    "collapsed": true
   },
   "outputs": [],
   "source": [
    "import pandas as pd\n",
    "import numpy as np"
   ]
  },
  {
   "cell_type": "code",
   "execution_count": 2,
   "metadata": {
    "collapsed": true
   },
   "outputs": [],
   "source": [
    "titanic = pd.read_excel('http://biostat.mc.vanderbilt.edu/wiki/pub/Main/DataSets/titanic3.xls')"
   ]
  },
  {
   "cell_type": "code",
   "execution_count": 4,
   "metadata": {},
   "outputs": [
    {
     "data": {
      "text/plain": [
       "0                             Elisabeth Walton\n",
       "1                                Hudson Trevor\n",
       "2                                Helen Loraine\n",
       "3                      Hudson Joshua Creighton\n",
       "4            Hudson J C (Bessie Waldo Daniels)\n",
       "5                                        Harry\n",
       "6                           Kornelia Theodosia\n",
       "7                                    Thomas Jr\n",
       "8               Edward Dale (Charlotte Lamson)\n",
       "9                                        Ramon\n",
       "10                                  John Jacob\n",
       "11       John Jacob (Madeleine Talmadge Force)\n",
       "12                            Leontine Pauline\n",
       "13                              Ellen \"Nellie\"\n",
       "14                       Algernon Henry Wilson\n",
       "15                                      John D\n",
       "16                                Quigg Edmond\n",
       "17          James (Helene DeLaudeniere Chaput)\n",
       "18                                      Albina\n",
       "19                                     Thomson\n",
       "20                             Richard Leonard\n",
       "21           Richard Leonard (Sallie Monypeny)\n",
       "22                                 Karl Howell\n",
       "23                                     Rosalie\n",
       "24                                       Ellen\n",
       "25                                       Jakob\n",
       "26                                 Dickinson H\n",
       "27                  Dickinson H (Helen Walton)\n",
       "28                                      Amelia\n",
       "29                               Mauritz Hakan\n",
       "                         ...                  \n",
       "1279                     Hulda Amanda Adolfina\n",
       "1280                                     Janko\n",
       "1281                                   Achille\n",
       "1282                                 Frederick\n",
       "1283                           Charles William\n",
       "1284                                     James\n",
       "1285                                   Linhart\n",
       "1286        George Joseph (Shawneene Abi-Saab)\n",
       "1287                        Carl/Charles Peter\n",
       "1288                              Jakob Alfred\n",
       "1289                                Karl Johan\n",
       "1290                       James (Ellen Needs)\n",
       "1291                      Aaron (\"Abi Weller\")\n",
       "1292                                    Edward\n",
       "1293                       Howard Hugh \"Harry\"\n",
       "1294                                    Leslie\n",
       "1295                                     Einar\n",
       "1296                                    Albert\n",
       "1297                                 Phillippe\n",
       "1298                                   Camille\n",
       "1299                                    Antoni\n",
       "1300                 Antoni (Selini Alexander)\n",
       "1301                                   Gerious\n",
       "1302                                     Wazli\n",
       "1303                                   Gerious\n",
       "1304                                    Hileni\n",
       "1305                                   Thamine\n",
       "1306                               Mapriededer\n",
       "1307                                     Ortin\n",
       "1308                                       Leo\n",
       "Name: first_name, Length: 1309, dtype: object"
      ]
     },
     "execution_count": 4,
     "metadata": {},
     "output_type": "execute_result"
    }
   ],
   "source": [
    "titanic['first_name'] = titanic['name'].str.split(', ').str.get(1).str.split('.').str.get(1)\n",
    "titanic['first_name']"
   ]
  },
  {
   "cell_type": "code",
   "execution_count": 6,
   "metadata": {},
   "outputs": [
    {
     "data": {
      "text/plain": [
       "0       17\n",
       "1       14\n",
       "2       14\n",
       "3       24\n",
       "4       34\n",
       "5        6\n",
       "6       19\n",
       "7       10\n",
       "8       31\n",
       "9        6\n",
       "10      11\n",
       "11      38\n",
       "12      17\n",
       "13      15\n",
       "14      22\n",
       "15       7\n",
       "16      13\n",
       "17      35\n",
       "18       7\n",
       "19       8\n",
       "20      16\n",
       "21      34\n",
       "22      12\n",
       "23       8\n",
       "24       6\n",
       "25       6\n",
       "26      12\n",
       "27      27\n",
       "28       7\n",
       "29      14\n",
       "        ..\n",
       "1279    22\n",
       "1280     6\n",
       "1281     8\n",
       "1282    10\n",
       "1283    16\n",
       "1284     6\n",
       "1285     8\n",
       "1286    35\n",
       "1287    19\n",
       "1288    13\n",
       "1289    11\n",
       "1290    20\n",
       "1291    21\n",
       "1292     7\n",
       "1293    20\n",
       "1294     7\n",
       "1295     6\n",
       "1296     7\n",
       "1297    10\n",
       "1298     8\n",
       "1299     7\n",
       "1300    26\n",
       "1301     8\n",
       "1302     6\n",
       "1303     8\n",
       "1304     7\n",
       "1305     8\n",
       "1306    12\n",
       "1307     6\n",
       "1308     4\n",
       "Name: first_name, Length: 1309, dtype: int64"
      ]
     },
     "execution_count": 6,
     "metadata": {},
     "output_type": "execute_result"
    }
   ],
   "source": [
    "titanic[\"first_name\"].str.len()"
   ]
  },
  {
   "cell_type": "code",
   "execution_count": 5,
   "metadata": {
    "collapsed": true
   },
   "outputs": [],
   "source": [
    "titanic[\"first_name\"] = titanic[\"name\"].str.split(\",\").str.get(1).str.split(\".\").str.get(1)"
   ]
  },
  {
   "cell_type": "code",
   "execution_count": 6,
   "metadata": {},
   "outputs": [
    {
     "name": "stdout",
     "output_type": "stream",
     "text": [
      "0          Walton\n",
      "1          Trevor\n",
      "2         Loraine\n",
      "3          Joshua\n",
      "4               J\n",
      "5             NaN\n",
      "6       Theodosia\n",
      "7              Jr\n",
      "8            Dale\n",
      "9             NaN\n",
      "10          Jacob\n",
      "11          Jacob\n",
      "12        Pauline\n",
      "13       \"Nellie\"\n",
      "14          Henry\n",
      "15              D\n",
      "16         Edmond\n",
      "17        (Helene\n",
      "18            NaN\n",
      "19            NaN\n",
      "20        Leonard\n",
      "21        Leonard\n",
      "22         Howell\n",
      "23            NaN\n",
      "24            NaN\n",
      "25            NaN\n",
      "26              H\n",
      "27              H\n",
      "28            NaN\n",
      "29          Hakan\n",
      "          ...    \n",
      "1279       Amanda\n",
      "1280          NaN\n",
      "1281          NaN\n",
      "1282          NaN\n",
      "1283      William\n",
      "1284          NaN\n",
      "1285          NaN\n",
      "1286       Joseph\n",
      "1287        Peter\n",
      "1288       Alfred\n",
      "1289        Johan\n",
      "1290       (Ellen\n",
      "1291        (\"Abi\n",
      "1292          NaN\n",
      "1293         Hugh\n",
      "1294          NaN\n",
      "1295          NaN\n",
      "1296          NaN\n",
      "1297          NaN\n",
      "1298          NaN\n",
      "1299          NaN\n",
      "1300      (Selini\n",
      "1301          NaN\n",
      "1302          NaN\n",
      "1303          NaN\n",
      "1304          NaN\n",
      "1305          NaN\n",
      "1306          NaN\n",
      "1307          NaN\n",
      "1308          NaN\n",
      "Name: name, Length: 1309, dtype: object\n"
     ]
    }
   ],
   "source": [
    "name = titanic[\"name\"].str.split(\", \").str.get(1).str.split(\".\").str.get(1).str.split(\" \").str.get(2)\n",
    "print(name)"
   ]
  },
  {
   "cell_type": "code",
   "execution_count": 12,
   "metadata": {},
   "outputs": [
    {
     "data": {
      "text/plain": [
       "464"
      ]
     },
     "execution_count": 12,
     "metadata": {},
     "output_type": "execute_result"
    }
   ],
   "source": [
    "\n",
    "(len(titanic)) - (len(name.dropna(axis=0, how='all')))"
   ]
  },
  {
   "cell_type": "code",
   "execution_count": null,
   "metadata": {},
   "outputs": [],
   "source": []
  },
  {
   "cell_type": "code",
   "execution_count": 9,
   "metadata": {},
   "outputs": [
    {
     "name": "stdout",
     "output_type": "stream",
     "text": [
      "         survived\n",
      "boat             \n",
      "2               1\n",
      "1               5\n",
      "10             29\n",
      "11             25\n",
      "12             19\n",
      "13             39\n",
      "13 15           2\n",
      "13 15 B         1\n",
      "14             33\n",
      "15             37\n",
      "15 16           1\n",
      "16             23\n",
      "2              12\n",
      "3              26\n",
      "4              31\n",
      "5              27\n",
      "5 7             2\n",
      "5 9             1\n",
      "6              20\n",
      "7              23\n",
      "8              23\n",
      "8 10            1\n",
      "9              25\n",
      "A              11\n",
      "B               9\n",
      "C              38\n",
      "C D             2\n",
      "D              20\n"
     ]
    }
   ],
   "source": [
    "\n",
    "titanic_survived=titanic[[\"boat\",\"survived\"]]\n",
    "titanic_count=titanic_survived.groupby(\"boat\").count()\n",
    "print (titanic_count)"
   ]
  },
  {
   "cell_type": "code",
   "execution_count": 10,
   "metadata": {},
   "outputs": [
    {
     "data": {
      "text/plain": [
       "'13'"
      ]
     },
     "execution_count": 10,
     "metadata": {},
     "output_type": "execute_result"
    }
   ],
   "source": [
    "titanic_count[\"survived\"].argmax()"
   ]
  },
  {
   "cell_type": "code",
   "execution_count": 11,
   "metadata": {},
   "outputs": [
    {
     "data": {
      "text/plain": [
       "count    28.000000\n",
       "mean     17.357143\n",
       "std      13.024803\n",
       "min       1.000000\n",
       "25%       2.000000\n",
       "50%      20.000000\n",
       "75%      26.250000\n",
       "max      39.000000\n",
       "Name: survived, dtype: float64"
      ]
     },
     "execution_count": 11,
     "metadata": {},
     "output_type": "execute_result"
    }
   ],
   "source": [
    "titanic_count.survived.describe()"
   ]
  },
  {
   "cell_type": "code",
   "execution_count": null,
   "metadata": {
    "collapsed": true
   },
   "outputs": [],
   "source": [
    "\n"
   ]
  },
  {
   "cell_type": "code",
   "execution_count": null,
   "metadata": {
    "collapsed": true
   },
   "outputs": [],
   "source": []
  }
 ],
 "metadata": {
  "kernelspec": {
   "display_name": "Python 3",
   "language": "python",
   "name": "python3"
  },
  "language_info": {
   "codemirror_mode": {
    "name": "ipython",
    "version": 3
   },
   "file_extension": ".py",
   "mimetype": "text/x-python",
   "name": "python",
   "nbconvert_exporter": "python",
   "pygments_lexer": "ipython3",
   "version": "3.6.1"
  }
 },
 "nbformat": 4,
 "nbformat_minor": 2
}
